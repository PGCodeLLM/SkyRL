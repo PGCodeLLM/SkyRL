{
 "cells": [
  {
   "cell_type": "code",
   "execution_count": 1,
   "metadata": {},
   "outputs": [
    {
     "name": "stderr",
     "output_type": "stream",
     "text": [
      "\u001b[92m18:01:42 - openhands:INFO\u001b[0m: codeact.py:69 - Using docker image prefix: docker.io/xingyaoww/\n"
     ]
    }
   ],
   "source": [
    "import os\n",
    "\n",
    "from openhands.core.config import SandboxConfig, AppConfig, AgentConfig\n",
    "from openhands.core.config.condenser_config import NoOpCondenserConfig\n",
    "from openhands.core.main import create_runtime, run_controller\n",
    "\n",
    "from verl.workers.agentic.codeact import OnlineCodeActAgent"
   ]
  },
  {
   "cell_type": "code",
   "execution_count": 18,
   "metadata": {},
   "outputs": [],
   "source": [
    "# agent = OnlineCodeActAgent(\n",
    "#     instance_id=\"facebookresearch__ParlAI-2676\",\n",
    "#     trajectory_id=0,\n",
    "#     max_prompt_length=1024,\n",
    "#     tokenizer=tokenizer,\n",
    "#     infer_engine=infer_engine,\n",
    "#     sampling_params=sampling_params,\n",
    "#     qwen3_enable_thinking=True\n",
    "# )\n",
    "\n",
    "# Helper function for sandbox config\n",
    "def get_default_sandbox_config_for_eval():\n",
    "    return SandboxConfig(\n",
    "        use_host_network=False,\n",
    "        timeout=300,\n",
    "        api_key=\"123\",\n",
    "        remote_runtime_api_url=\"http://127.0.0.1:11451\",\n",
    "        keep_runtime_alive=False,\n",
    "        remote_runtime_init_timeout=3600,\n",
    "        remote_runtime_api_timeout=120,\n",
    "        remote_runtime_enable_retries=True,\n",
    "        remote_runtime_class='sysbox',\n",
    "    )\n",
    "\n",
    "sandbox_config = get_default_sandbox_config_for_eval()\n",
    "sandbox_config.base_container_image = 'eval-facebookresearch-parlai-9f4529a1'\n",
    "sandbox_config.enable_auto_lint = True\n",
    "sandbox_config.use_host_network = False\n",
    "sandbox_config.platform = 'linux/amd64'\n",
    "\n",
    "app_config = AppConfig(\n",
    "    default_agent='OnlineCodeActAgent',\n",
    "    run_as_openhands=False,\n",
    "    max_iterations=10,\n",
    "    runtime='remote',\n",
    "    sandbox=sandbox_config,\n",
    "    workspace_base=None,\n",
    "    workspace_mount_path=None,\n",
    ")\n",
    "agent_config = AgentConfig(\n",
    "    codeact_enable_jupyter=False,\n",
    "    codeact_enable_browsing=False,\n",
    "    codeact_enable_llm_editor=False,\n",
    "    condenser=NoOpCondenserConfig(),\n",
    "    enable_prompt_extensions=False,\n",
    ")\n",
    "app_config.set_agent_config(agent_config)\n",
    "# agent.config = app_config\n",
    "\n",
    "# Create runtime\n",
    "runtime = create_runtime(app_config)\n",
    "\n",
    "await runtime.connect()"
   ]
  },
  {
   "cell_type": "code",
   "execution_count": 37,
   "metadata": {},
   "outputs": [
    {
     "name": "stdout",
     "output_type": "stream",
     "text": [
      "**CmdOutputObservation (source=None, exit code=0, metadata={\n",
      "  \"exit_code\": 0,\n",
      "  \"pid\": -1,\n",
      "  \"username\": \"root\",\n",
      "  \"hostname\": \"9d9a0007e3dc\",\n",
      "  \"working_dir\": \"/workspace\",\n",
      "  \"py_interpreter_path\": \"/usr/local/bin/python\",\n",
      "  \"prefix\": \"\",\n",
      "  \"suffix\": \"\\n[The command completed with exit code 0.]\"\n",
      "})**\n",
      "--BEGIN AGENT OBSERVATION--\n",
      "/usr/local/bin/python\n",
      "[The command completed with exit code 0.]\n",
      "[Current working directory: /workspace]\n",
      "[Python interpreter: /usr/local/bin/python]\n",
      "[Command finished with exit code 0]\n",
      "--END AGENT OBSERVATION--\n"
     ]
    }
   ],
   "source": [
    "from openhands.events.action import CmdRunAction\n",
    "\n",
    "# Change the python runtime to the system python\n",
    "obs = runtime.run_action(\n",
    "    CmdRunAction(\n",
    "        command=\"export PATH=/usr/local/bin:$PATH && which python\"\n",
    "    )\n",
    ")\n",
    "print(obs)"
   ]
  }
 ],
 "metadata": {
  "kernelspec": {
   "display_name": ".venv",
   "language": "python",
   "name": "python3"
  },
  "language_info": {
   "codemirror_mode": {
    "name": "ipython",
    "version": 3
   },
   "file_extension": ".py",
   "mimetype": "text/x-python",
   "name": "python",
   "nbconvert_exporter": "python",
   "pygments_lexer": "ipython3",
   "version": "3.12.10"
  }
 },
 "nbformat": 4,
 "nbformat_minor": 2
}
